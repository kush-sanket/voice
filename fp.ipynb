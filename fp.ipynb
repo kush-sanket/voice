{
 "cells": [
  {
   "cell_type": "code",
   "execution_count": 1,
   "metadata": {},
   "outputs": [],
   "source": [
    "import librosa\n",
    "import sys\n",
    "import numpy as np\n",
    "import matplotlib.pyplot as plt\n",
    "import librosa.display\n",
    "import matplotlib.pyplot as plt\n",
    "%matplotlib inline\n",
    "import IPython.display as ipd\n",
    "import librosa\n",
    "import librosa.display\n",
    "from glob import glob\n",
    "from scipy.io import wavfile\n",
    "import pandas as pd"
   ]
  },
  {
   "cell_type": "code",
   "execution_count": 2,
   "metadata": {},
   "outputs": [],
   "source": [
    "data_dir ='./all_sounds/'\n",
    "sound_dir = glob(data_dir + '/*.wav' )\n",
    "length_of_files= len(sound_dir)\n",
    "\n"
   ]
  },
  {
   "cell_type": "code",
   "execution_count": 3,
   "metadata": {},
   "outputs": [
    {
     "data": {
      "text/plain": [
       "[8.999977324263039, 8.999977324263039]"
      ]
     },
     "execution_count": 3,
     "metadata": {},
     "output_type": "execute_result"
    }
   ],
   "source": [
    "ending_time = []\n",
    "for i in range(length_of_files):\n",
    "    filename = sound_dir[i]\n",
    "    Fs = 44100\n",
    "    clip, sample_rate = librosa.load(filename, sr=Fs)\n",
    "    n_fft = 1024 \n",
    "    start = 0 \n",
    "    hop_length=512\n",
    "    X = librosa.stft(clip, n_fft=n_fft, hop_length=hop_length)\n",
    "    t_samples = np.arange(clip.shape[0]) / Fs\n",
    "    ending_time.append(t_samples[-1])\n",
    "    \n",
    "ending_time\n",
    "    "
   ]
  },
  {
   "cell_type": "code",
   "execution_count": 4,
   "metadata": {},
   "outputs": [
    {
     "data": {
      "text/plain": [
       "[2173.7832546819213, 5589.569638623428]"
      ]
     },
     "execution_count": 4,
     "metadata": {},
     "output_type": "execute_result"
    }
   ],
   "source": [
    "mean_frequency = []\n",
    "\n",
    "def freq(file, start_time, end_time):\n",
    "    sample_rate, data = wavfile.read(file)\n",
    "    start_point = int(sample_rate * start_time)\n",
    "    end_point = int(sample_rate * end_time )\n",
    "    length = (end_time - start_time)\n",
    "    counter = 0\n",
    "    for i in range(start_point, end_point):\n",
    "        if data[i] < 0 and data[i+1] > 0:\n",
    "            counter += 1\n",
    "    return counter/length\n",
    "for i in range(length_of_files):\n",
    "    y=freq(sound_dir[i], 0 ,ending_time[i])\n",
    "    mean_frequency.append(y)\n",
    "mean_frequency"
   ]
  },
  {
   "cell_type": "code",
   "execution_count": 5,
   "metadata": {},
   "outputs": [],
   "source": [
    "df = pd.read_csv('yho.csv')"
   ]
  },
  {
   "cell_type": "code",
   "execution_count": 6,
   "metadata": {},
   "outputs": [
    {
     "data": {
      "text/html": [
       "<div>\n",
       "<style scoped>\n",
       "    .dataframe tbody tr th:only-of-type {\n",
       "        vertical-align: middle;\n",
       "    }\n",
       "\n",
       "    .dataframe tbody tr th {\n",
       "        vertical-align: top;\n",
       "    }\n",
       "\n",
       "    .dataframe thead th {\n",
       "        text-align: right;\n",
       "    }\n",
       "</style>\n",
       "<table border=\"1\" class=\"dataframe\">\n",
       "  <thead>\n",
       "    <tr style=\"text-align: right;\">\n",
       "      <th></th>\n",
       "      <th>Timestamp</th>\n",
       "      <th>audio</th>\n",
       "      <th>SI</th>\n",
       "    </tr>\n",
       "  </thead>\n",
       "  <tbody>\n",
       "    <tr>\n",
       "      <th>0</th>\n",
       "      <td>8/16/2021 19:56:35</td>\n",
       "      <td>https://drive.google.com/open?id=1PDbYc_c3K-Ab...</td>\n",
       "      <td>Yes</td>\n",
       "    </tr>\n",
       "    <tr>\n",
       "      <th>1</th>\n",
       "      <td>8/18/2021 18:36:24</td>\n",
       "      <td>https://drive.google.com/open?id=1xdLMzu4-uX10...</td>\n",
       "      <td>No</td>\n",
       "    </tr>\n",
       "  </tbody>\n",
       "</table>\n",
       "</div>"
      ],
      "text/plain": [
       "            Timestamp                                              audio   SI\n",
       "0  8/16/2021 19:56:35  https://drive.google.com/open?id=1PDbYc_c3K-Ab...  Yes\n",
       "1  8/18/2021 18:36:24  https://drive.google.com/open?id=1xdLMzu4-uX10...   No"
      ]
     },
     "execution_count": 6,
     "metadata": {},
     "output_type": "execute_result"
    }
   ],
   "source": [
    "df"
   ]
  },
  {
   "cell_type": "code",
   "execution_count": 7,
   "metadata": {},
   "outputs": [],
   "source": [
    "df['Frequency'] = mean_frequency"
   ]
  },
  {
   "cell_type": "code",
   "execution_count": 8,
   "metadata": {},
   "outputs": [
    {
     "data": {
      "text/html": [
       "<div>\n",
       "<style scoped>\n",
       "    .dataframe tbody tr th:only-of-type {\n",
       "        vertical-align: middle;\n",
       "    }\n",
       "\n",
       "    .dataframe tbody tr th {\n",
       "        vertical-align: top;\n",
       "    }\n",
       "\n",
       "    .dataframe thead th {\n",
       "        text-align: right;\n",
       "    }\n",
       "</style>\n",
       "<table border=\"1\" class=\"dataframe\">\n",
       "  <thead>\n",
       "    <tr style=\"text-align: right;\">\n",
       "      <th></th>\n",
       "      <th>Timestamp</th>\n",
       "      <th>audio</th>\n",
       "      <th>SI</th>\n",
       "      <th>Frequency</th>\n",
       "    </tr>\n",
       "  </thead>\n",
       "  <tbody>\n",
       "    <tr>\n",
       "      <th>0</th>\n",
       "      <td>8/16/2021 19:56:35</td>\n",
       "      <td>https://drive.google.com/open?id=1PDbYc_c3K-Ab...</td>\n",
       "      <td>Yes</td>\n",
       "      <td>2173.783255</td>\n",
       "    </tr>\n",
       "    <tr>\n",
       "      <th>1</th>\n",
       "      <td>8/18/2021 18:36:24</td>\n",
       "      <td>https://drive.google.com/open?id=1xdLMzu4-uX10...</td>\n",
       "      <td>No</td>\n",
       "      <td>5589.569639</td>\n",
       "    </tr>\n",
       "  </tbody>\n",
       "</table>\n",
       "</div>"
      ],
      "text/plain": [
       "            Timestamp                                              audio   SI  \\\n",
       "0  8/16/2021 19:56:35  https://drive.google.com/open?id=1PDbYc_c3K-Ab...  Yes   \n",
       "1  8/18/2021 18:36:24  https://drive.google.com/open?id=1xdLMzu4-uX10...   No   \n",
       "\n",
       "     Frequency  \n",
       "0  2173.783255  \n",
       "1  5589.569639  "
      ]
     },
     "execution_count": 8,
     "metadata": {},
     "output_type": "execute_result"
    }
   ],
   "source": [
    "df"
   ]
  },
  {
   "cell_type": "code",
   "execution_count": 9,
   "metadata": {},
   "outputs": [],
   "source": [
    "df_freq=df['Frequency']\n",
    "df_si=df['SI']"
   ]
  },
  {
   "cell_type": "code",
   "execution_count": 10,
   "metadata": {},
   "outputs": [
    {
     "data": {
      "image/png": "[encoded data removed]",
      "text/plain": [
       "<Figure size 432x288 with 1 Axes>"
      ]
     },
     "metadata": {
      "needs_background": "light"
     },
     "output_type": "display_data"
    }
   ],
   "source": [
    "plt.plot(df['Frequency'],np.zeros_like(df['Frequency']),'o')\n",
    "plt.plot(df['SI'],np.zeros_like(df['SI']),'o')\n",
    "plt.show()\n",
    "plt.di"
   ]
  },
  {
   "cell_type": "code",
   "execution_count": null,
   "metadata": {},
   "outputs": [],
   "source": []
  },
  {
   "cell_type": "code",
   "execution_count": null,
   "metadata": {},
   "outputs": [],
   "source": []
  }
 ],
 "metadata": {
  "kernelspec": {
   "display_name": "Python 3",
   "language": "python",
   "name": "python3"
  },
  "language_info": {
   "codemirror_mode": {
    "name": "ipython",
    "version": 3
   },
   "file_extension": ".py",
   "mimetype": "text/x-python",
   "name": "python",
   "nbconvert_exporter": "python",
   "pygments_lexer": "ipython3",
   "version": "3.8.5"
  }
 },
 "nbformat": 4,
 "nbformat_minor": 4
}
